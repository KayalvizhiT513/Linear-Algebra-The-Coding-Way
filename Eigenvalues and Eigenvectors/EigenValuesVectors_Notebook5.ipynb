{
  "nbformat": 4,
  "nbformat_minor": 0,
  "metadata": {
    "colab": {
      "provenance": [],
      "authorship_tag": "ABX9TyOLw8qK3yNw/rfdJCWZSe7E",
      "include_colab_link": true
    },
    "kernelspec": {
      "name": "python3",
      "display_name": "Python 3"
    },
    "language_info": {
      "name": "python"
    }
  },
  "cells": [
    {
      "cell_type": "markdown",
      "metadata": {
        "id": "view-in-github",
        "colab_type": "text"
      },
      "source": [
        "<a href=\"https://colab.research.google.com/github/KayalvizhiT513/Linear-Algebra-The-Coding-Way/blob/main/Eigenvalues%20and%20Eigenvectors/EigenValuesVectors_Notebook5.ipynb\" target=\"_parent\"><img src=\"https://colab.research.google.com/assets/colab-badge.svg\" alt=\"Open In Colab\"/></a>"
      ]
    },
    {
      "cell_type": "markdown",
      "source": [
        "# Coding Assignment 5\n",
        "\n",
        "<p> The table represents a transition probability matrix for a Markov chain, where each row represents the probability of moving from the page represented by the ith column to the page represented by the jth row.</p>\n",
        "\n",
        "|       | Page1 | Page2 | Page3 | Page4 |\n",
        "|-------|-------|-------|-------|-------|\n",
        "| Page1 | 0     |  0    |  1    |  0.5  |\n",
        "| Page1 | 1/3   |  0    |  0    |  0    |\n",
        "| Page1 | 1/3   |  0.5  |  0    |  0.5  |\n",
        "| Page1 | 1/3   |  0.5  |  0    |  0    |"
      ],
      "metadata": {
        "id": "WXkdz5bkQJU5"
      }
    },
    {
      "cell_type": "code",
      "source": [
        "# Probability Matrix\n",
        "P = [[0, 0, 1, 0.5],\n",
        "     [1/3, 0, 0, 0],\n",
        "     [1/3, 0.5, 0, 0.5],\n",
        "     [1/3, 0.5, 0, 0]]"
      ],
      "metadata": {
        "id": "9NnETcylf8EI"
      },
      "execution_count": null,
      "outputs": []
    },
    {
      "cell_type": "markdown",
      "source": [
        "Consider x vector as the probability of landing on a certain page"
      ],
      "metadata": {
        "id": "2breNwFhRxrz"
      }
    },
    {
      "cell_type": "code",
      "execution_count": null,
      "metadata": {
        "id": "8OUdrLLAdCK9"
      },
      "outputs": [],
      "source": [
        "def matrix_multiply(A, B):\n",
        "    result = []\n",
        "    no_of_rows_in_result = len(A)\n",
        "    no_of_cols_in_result = len(B[0]) if type(B[0]) == 'list' else 1\n",
        "\n",
        "    # Number of columns in A should be equal to number of rows in B for matrix multiplication\n",
        "    if len(A[0]) != len(B):\n",
        "        print(\"Matrix multiplication not possible\")\n",
        "    else:\n",
        "        # Iterate through each row of A matrix\n",
        "        for i in range(no_of_rows_in_result):\n",
        "            # Check if the Bmatrix is a vector or not\n",
        "            if no_of_cols_in_result > 1:\n",
        "                temp_row = []\n",
        "                # Iterate through each column of B matrix\n",
        "                for j in range(no_of_cols_in_result):\n",
        "                    sum = 0\n",
        "                    # Multiply each row of A with each column of B\n",
        "                    for k in range(len(A[0])):\n",
        "                        sum += A[i][k] * B[k][j]\n",
        "                    temp_row.append(sum)\n",
        "                result.append(temp_row)\n",
        "            else:\n",
        "                sum= 0\n",
        "                # Multiply each row of A with B\n",
        "                for k in range(len(A[0])):\n",
        "                    sum += A[i][k] * B[k]\n",
        "                result.append(sum)\n",
        "    return result\n"
      ]
    },
    {
      "cell_type": "code",
      "source": [
        "def simulate_page_transition_probabilities(transition_matrix, initial_probabilities, iterations):\n",
        "    \"\"\"\n",
        "    Simulates the transition probabilities of moving between pages over a certain number of iterations.\n",
        "\n",
        "    Args:\n",
        "    - transition_matrix (list of lists): The transition matrix representing the probabilities of moving between pages.\n",
        "    - initial_probabilities (list): The initial probabilities of landing on each page.\n",
        "    - iterations (int): The number of iterations to simulate.\n",
        "\n",
        "    Returns:\n",
        "    - list: The probabilities of landing on each page after the specified number of iterations.\n",
        "    \"\"\"\n",
        "    probabilities = initial_probabilities[:]\n",
        "    for _ in range(iterations):\n",
        "        probabilities = matrix_multiply(transition_matrix, probabilities)\n",
        "    return probabilities"
      ],
      "metadata": {
        "id": "4CXXOnyTlQrd"
      },
      "execution_count": null,
      "outputs": []
    },
    {
      "cell_type": "markdown",
      "source": [
        "**Qn 1:** Let’s say you start on Page 1, and then depending on this matrix, you move to the next page. Repeat this process, say a hundred times. How would the composition of vector x look ?"
      ],
      "metadata": {
        "id": "vstgFhXhSUXg"
      }
    },
    {
      "cell_type": "markdown",
      "source": [
        "**Solution:**<br>\n",
        "When we start from page 1, the event of being at page 1 is certain, thus the probability is 1, and the probability of being on other pages is zero."
      ],
      "metadata": {
        "id": "-DGZrYY7SrJB"
      }
    },
    {
      "cell_type": "code",
      "source": [
        "# Let x1 be the probability of landing on a certain page starting from Page1.\n",
        "x1 = [1, 0, 0, 0]"
      ],
      "metadata": {
        "id": "cIsnBEksSozi"
      },
      "execution_count": null,
      "outputs": []
    },
    {
      "cell_type": "markdown",
      "source": [
        "* Each matrix multiplication step represents a transition from one page to another according to the transition probabilities encoded in the matrix.\n",
        "* By performing this multiplication repeatedly for n iterations, we simulate the process of navigating through the network of pages.\n",
        "* Updating the probabilities of being on each page based on the previous probabilities and the transition probabilities defined in the matrix allows us to model how the probabilities of landing on each page evolve over multiple steps or iterations."
      ],
      "metadata": {
        "id": "G97WvwOdTeZ6"
      }
    },
    {
      "cell_type": "code",
      "source": [
        "# Starting from Page1 moving to next page for n times\n",
        "n = 100\n",
        "new_x1 = simulate_page_transition_probabilities(P, x1, n)\n",
        "\n",
        "print(\"After\", n, \"iterations, the probabilities of landing on each page are:\\n\", [round(prob, 4) for prob in new_x1])\n"
      ],
      "metadata": {
        "colab": {
          "base_uri": "https://localhost:8080/"
        },
        "id": "rHiLwbNKgiNs",
        "outputId": "d6b3c29a-2256-49b2-94f4-80cbaa05fde1"
      },
      "execution_count": null,
      "outputs": [
        {
          "output_type": "stream",
          "name": "stdout",
          "text": [
            "After 100 iterations, the probabilities of landing on each page are:\n",
            " [0.3871, 0.129, 0.2903, 0.1935]\n"
          ]
        }
      ]
    },
    {
      "cell_type": "markdown",
      "source": [
        "## Repeating the above process starting from Page 3"
      ],
      "metadata": {
        "id": "Syeg-rxeUhZ3"
      }
    },
    {
      "cell_type": "code",
      "source": [
        "# Let x3 be the probability of landing on a certain page starting from Page3.\n",
        "x3 = [1, 0, 0, 0]\n",
        "\n",
        "# Starting from Page3 moving to next page for n times\n",
        "n = 100\n",
        "new_x3 = simulate_page_transition_probabilities(P, x3, n)\n",
        "\n",
        "print(\"After\", n, \"iterations, the probabilities of landing on each page are:\\n\", [round(prob, 4) for prob in new_x3])\n"
      ],
      "metadata": {
        "colab": {
          "base_uri": "https://localhost:8080/"
        },
        "id": "Rb3A9Jw8h-69",
        "outputId": "93ff27c7-36d2-4ad9-9a94-574b7b0c2051"
      },
      "execution_count": null,
      "outputs": [
        {
          "output_type": "stream",
          "name": "stdout",
          "text": [
            "After 100 iterations, the probabilities of landing on each page are:\n",
            " [0.3871, 0.129, 0.2903, 0.1935]\n"
          ]
        }
      ]
    },
    {
      "cell_type": "markdown",
      "source": [
        "Starting from any page and landing on any other page for a large number of iterations may converge to a steady probability vector, known as the **Steady-State Vector**, under the conditions that the transition matrix is irreducible and aperiodic."
      ],
      "metadata": {
        "id": "CJwitTrxl1Iy"
      }
    },
    {
      "cell_type": "markdown",
      "source": [
        "**Note:** We can also note that the Steady-State Vector from this iteration method matches with the scaled Eigen Vector calculated in the previous assignment"
      ],
      "metadata": {
        "id": "930MeuZHUqqd"
      }
    },
    {
      "cell_type": "code",
      "source": [],
      "metadata": {
        "id": "sCGRemTMnkwN"
      },
      "execution_count": null,
      "outputs": []
    }
  ]
}