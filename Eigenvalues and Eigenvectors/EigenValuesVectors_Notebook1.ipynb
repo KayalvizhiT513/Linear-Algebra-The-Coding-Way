{
  "nbformat": 4,
  "nbformat_minor": 0,
  "metadata": {
    "colab": {
      "provenance": [],
      "authorship_tag": "ABX9TyMB/bR1fwUla/G7K95pUt44",
      "include_colab_link": true
    },
    "kernelspec": {
      "name": "python3",
      "display_name": "Python 3"
    },
    "language_info": {
      "name": "python"
    }
  },
  "cells": [
    {
      "cell_type": "markdown",
      "metadata": {
        "id": "view-in-github",
        "colab_type": "text"
      },
      "source": [
        "<a href=\"https://colab.research.google.com/github/KayalvizhiT513/Linear-Algebra-The-Coding-Way/blob/main/Eigenvalues%20and%20Eigenvectors/EigenValuesVectors_Notebook1.ipynb\" target=\"_parent\"><img src=\"https://colab.research.google.com/assets/colab-badge.svg\" alt=\"Open In Colab\"/></a>"
      ]
    },
    {
      "cell_type": "markdown",
      "source": [
        "#<b>Coding Assignment 1</b>\n"
      ],
      "metadata": {
        "id": "bLSHKY6AsOUg"
      }
    },
    {
      "cell_type": "markdown",
      "source": [
        "To prove whether the given vectors (say u and v) are the eigenvectors of a matrix\n",
        "A visually."
      ],
      "metadata": {
        "id": "cC9huy-ssYXY"
      }
    },
    {
      "cell_type": "code",
      "execution_count": 1,
      "metadata": {
        "id": "NtLCmKEBwuUs"
      },
      "outputs": [],
      "source": [
        "import matplotlib.pyplot as plt\n",
        "import numpy as np"
      ]
    },
    {
      "cell_type": "code",
      "source": [
        "def matrix_mul(A, B):\n",
        "    # Check if dimensions are compatible for multiplication\n",
        "    if len(A[0]) != len(B):\n",
        "        raise ValueError(\"Number of columns in A must be equal to the length of vector u\")\n",
        "\n",
        "    # Initialise result matrix\n",
        "    result = []\n",
        "\n",
        "    # Iterate through rows of A\n",
        "    for i in range(len(A)):\n",
        "        sum = 0\n",
        "        # # Iterate through columns of B\n",
        "        for k in range(len(B)):\n",
        "            sum += A[i][k] * B[k]\n",
        "        result.append(sum)\n",
        "    return result"
      ],
      "metadata": {
        "id": "AqbVNw-FT_fX"
      },
      "execution_count": 2,
      "outputs": []
    },
    {
      "cell_type": "code",
      "source": [
        "def plot_graph(A, u, v):\n",
        "    # Initialize start and end points for vectors\n",
        "    start1 = start2 = start3 = start4 = (0, 0)\n",
        "\n",
        "    # Calculate end points of vectors after transformation by matrix A\n",
        "    end1 = matrix_mul(A, u)\n",
        "    end2 = matrix_mul(A, v)\n",
        "\n",
        "    # Keep original vectors unchanged\n",
        "    end3 = u\n",
        "    end4 = v\n",
        "\n",
        "    # Create a figure and axis\n",
        "    fig, ax = plt.subplots()\n",
        "\n",
        "    # Plot arrows\n",
        "    arrow1 = ax.arrow(*start1, end1[0]-start1[0], end1[1]-start1[1], head_width=0.5, head_length=0.3, fc='blue', ec='blue')\n",
        "    arrow2 = ax.arrow(*start2, end2[0]-start2[0], end2[1]-start2[1], head_width=0.5, head_length=0.3, fc='red', ec='red')\n",
        "    arrow3 = ax.arrow(*start3, end3[0]-start3[0], end3[1]-start3[1], head_width=0.5, head_length=0.3, fc='blue', ec='blue')\n",
        "    arrow4 = ax.arrow(*start4, end4[0]-start4[0], end4[1]-start4[1], head_width=0.5, head_length=0.3, fc='red', ec='red')\n",
        "\n",
        "    # Add labels near the arrow heads\n",
        "    ax.annotate(f'Au {end1}', xy=(end1[0], end1[1]), xytext=(-20, 15), textcoords='offset points')\n",
        "    ax.annotate(f'Av {end2}', xy=(end2[0], end2[1]), xytext=(-20, 15), textcoords='offset points')\n",
        "    ax.annotate(f'u {end3}', xy=(end3[0], end3[1]), xytext=(5, -5), textcoords='offset points')\n",
        "    ax.annotate(f'v {end4}', xy=(end4[0], end4[1]), xytext=(5, -5), textcoords='offset points')\n",
        "\n",
        "    # Set limits and labels\n",
        "    ax.set_xlim(-25, 7)\n",
        "    ax.set_ylim(-6, 21)\n",
        "    ax.set_xlabel('X')\n",
        "    ax.set_ylabel('Y')\n",
        "\n",
        "    # Show plot\n",
        "    plt.grid()\n",
        "    plt.show()"
      ],
      "metadata": {
        "id": "n1_tJlpqUYRX"
      },
      "execution_count": 5,
      "outputs": []
    },
    {
      "cell_type": "code",
      "source": [
        "# Initialise the matrix and the vectors\n",
        "A = [[1, 6],\n",
        "     [5, 2]]\n",
        "u = [6, -5]\n",
        "v = [3, -2]\n",
        "\n",
        "plot_graph(A,u,v)"
      ],
      "metadata": {
        "id": "vPZ0K0HBV8Oa",
        "colab": {
          "base_uri": "https://localhost:8080/",
          "height": 468
        },
        "outputId": "809f06cd-3de9-445d-ed3c-578ac0fb2fed"
      },
      "execution_count": 6,
      "outputs": [
        {
          "output_type": "display_data",
          "data": {
            "text/plain": [
              "<Figure size 640x480 with 1 Axes>"
            ],
            "image/png": "[encoded data removed]"
          },
          "metadata": {}
        }
      ]
    },
    {
      "cell_type": "markdown",
      "source": [
        "By the equation of Eigenvectors, Ax = λx <br>\n",
        "where,<br>\n",
        "A - matrix <br>\n",
        "x - Eigenvector <br>\n",
        "λ - Eigenvalue (a scalar) <br>\n",
        "\n",
        "the product of the matrix and its eigenvector(Ax) is equal to the scalar multiple of the eigenvector.\n",
        "\n",
        "Therefore, when Ax and x are plotted in a graph they should lie on the same line or overlap each other. Ax is just the scaled version of x, where the scaling factor corresponds to the eigenvalue associated with x.\n"
      ],
      "metadata": {
        "id": "nWGyAxSxu1Hm"
      }
    },
    {
      "cell_type": "code",
      "source": [],
      "metadata": {
        "id": "NIwnA52sgy2h"
      },
      "execution_count": null,
      "outputs": []
    }
  ]
}