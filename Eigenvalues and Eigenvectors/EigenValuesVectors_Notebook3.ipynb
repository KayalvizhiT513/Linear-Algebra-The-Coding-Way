{
  "nbformat": 4,
  "nbformat_minor": 0,
  "metadata": {
    "colab": {
      "provenance": []
    },
    "kernelspec": {
      "name": "python3",
      "display_name": "Python 3"
    },
    "language_info": {
      "name": "python"
    }
  },
  "cells": [
    {
      "cell_type": "code",
      "execution_count": 31,
      "metadata": {
        "id": "DELpeewiewGL"
      },
      "outputs": [],
      "source": [
        "import numpy as np\n",
        "from copy import deepcopy"
      ]
    },
    {
      "cell_type": "code",
      "source": [
        "def matrix_multiply(A, B):\n",
        "    if len(A[0]) != len(B):\n",
        "        raise ValueError(\"Number of columns in the first matrix must equal the number of rows in the second matrix.\")\n",
        "\n",
        "    result = []\n",
        "    for i in range(len(A)):\n",
        "        row = []\n",
        "        for j in range(len(B[0])):\n",
        "            sum = 0\n",
        "            for k in range(len(B)):\n",
        "                sum += A[i][k] * B[k][j]\n",
        "            row.append(sum)\n",
        "        result.append(row)\n",
        "\n",
        "    return np.array(result)"
      ],
      "metadata": {
        "id": "AiRnIwUw8-pk"
      },
      "execution_count": 23,
      "outputs": []
    },
    {
      "cell_type": "code",
      "source": [
        "def reduce_to_rref(matrix):\n",
        "    unit_matrix = [[1, 0, 0],\n",
        "                   [0, 1, 0],\n",
        "                   [0, 0, 1]]\n",
        "    lead = 0\n",
        "    rowCount = len(matrix)\n",
        "    columnCount = len(matrix[0])\n",
        "\n",
        "    for r in range(rowCount):\n",
        "        if lead >= columnCount:\n",
        "            return matrix\n",
        "        i = r\n",
        "        while matrix[i][lead] == 0:\n",
        "            i += 1\n",
        "            if i == rowCount:\n",
        "                i = r\n",
        "                lead += 1\n",
        "                if columnCount == lead:\n",
        "                    return matrix\n",
        "        matrix[i], matrix[r] = matrix[r], matrix[i]\n",
        "        unit_matrix[i], unit_matrix[r] = unit_matrix[r], unit_matrix[i]\n",
        "\n",
        "        lv = matrix[r][lead]\n",
        "        matrix[r] = [mrx / float(lv) for mrx in matrix[r]]\n",
        "        unit_matrix[r] = [mrx / float(lv) for mrx in unit_matrix[r]]\n",
        "\n",
        "        for i in range(rowCount):\n",
        "            if i != r:\n",
        "                lv = matrix[i][lead]\n",
        "                matrix[i] = [iv - lv*rv for rv, iv in zip(matrix[r], matrix[i])]\n",
        "                unit_matrix[i] = [iv - lv*rv for rv, iv in zip(unit_matrix[r], unit_matrix[i])]\n",
        "        lead += 1\n",
        "    return matrix, unit_matrix\n"
      ],
      "metadata": {
        "id": "nWs2inBjhIVu"
      },
      "execution_count": 6,
      "outputs": []
    },
    {
      "cell_type": "code",
      "source": [
        "A = [[0, 1, 2],\n",
        "      [1, 0, 3],\n",
        "      [4, -3, 8]]\n",
        "\n",
        "A_copy = deepcopy(A)\n",
        "rref_matrix, inverse_matrix = reduce_to_rref(A_copy)\n",
        "print(\"RREF of A|I:\")\n",
        "for row in rref_matrix:\n",
        "    print(row)\n",
        "\n",
        "print(\"\\nInverse of A\")\n",
        "for row in inverse_matrix:\n",
        "    print(row)"
      ],
      "metadata": {
        "id": "9QAECqT1ez8t",
        "colab": {
          "base_uri": "https://localhost:8080/"
        },
        "outputId": "1af9ffca-dc4b-4880-e97b-b3ba79a7d1bb"
      },
      "execution_count": 33,
      "outputs": [
        {
          "output_type": "stream",
          "name": "stdout",
          "text": [
            "RREF of A|I:\n",
            "[1.0, 0.0, 0.0]\n",
            "[0.0, 1.0, 0.0]\n",
            "[0.0, 0.0, 1.0]\n",
            "\n",
            "Inverse of A\n",
            "[-4.5, 7.0, -1.5]\n",
            "[-2.0, 4.0, -1.0]\n",
            "[1.5, -2.0, 0.5]\n"
          ]
        }
      ]
    },
    {
      "cell_type": "code",
      "source": [
        "print(\"Product of Original matrix & its inverse:\\n\",matrix_multiply(A, inverse_matrix))"
      ],
      "metadata": {
        "id": "9h1IMjftSo1D",
        "colab": {
          "base_uri": "https://localhost:8080/"
        },
        "outputId": "9924b025-2ff2-4209-85d5-6b085b7bfa5e"
      },
      "execution_count": 34,
      "outputs": [
        {
          "output_type": "stream",
          "name": "stdout",
          "text": [
            "Product of Original matrix & its inverse:\n",
            " [[1. 0. 0.]\n",
            " [0. 1. 0.]\n",
            " [0. 0. 1.]]\n"
          ]
        }
      ]
    },
    {
      "cell_type": "code",
      "source": [],
      "metadata": {
        "id": "JWdTeYYA9pUm"
      },
      "execution_count": null,
      "outputs": []
    }
  ]
}