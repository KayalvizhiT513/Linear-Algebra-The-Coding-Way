{
  "nbformat": 4,
  "nbformat_minor": 0,
  "metadata": {
    "colab": {
      "provenance": [],
      "authorship_tag": "ABX9TyNpb3d44Gf2doPlv9ZQAsD1",
      "include_colab_link": true
    },
    "kernelspec": {
      "name": "python3",
      "display_name": "Python 3"
    },
    "language_info": {
      "name": "python"
    }
  },
  "cells": [
    {
      "cell_type": "markdown",
      "metadata": {
        "id": "view-in-github",
        "colab_type": "text"
      },
      "source": [
        "<a href=\"https://colab.research.google.com/github/KayalvizhiT513/Linear-Algebra-The-Coding-Way/blob/main/Eigenvalues%20and%20Eigenvectors/EigenValuesVectors_Notebook3.ipynb\" target=\"_parent\"><img src=\"https://colab.research.google.com/assets/colab-badge.svg\" alt=\"Open In Colab\"/></a>"
      ]
    },
    {
      "cell_type": "markdown",
      "source": [
        "## Coding Assignment 3"
      ],
      "metadata": {
        "id": "bLVrwQHzMo4k"
      }
    },
    {
      "cell_type": "markdown",
      "source": [
        "Finding the inverse of a matrix in algorithmic way using Reduced Row Echelon Form"
      ],
      "metadata": {
        "id": "DHgatWw3PjCh"
      }
    },
    {
      "cell_type": "code",
      "execution_count": 2,
      "metadata": {
        "id": "DELpeewiewGL"
      },
      "outputs": [],
      "source": [
        "import numpy as np\n",
        "from copy import deepcopy"
      ]
    },
    {
      "cell_type": "code",
      "source": [
        "def matrix_multiply(A, B):\n",
        "    result = []\n",
        "    no_of_rows_in_result = len(A)\n",
        "    no_of_cols_in_result = len(B[0]) if type(B[0]) is list else 1\n",
        "\n",
        "    # Number of columns in A should be equal to number of rows in B for matrix multiplication\n",
        "    if len(A[0]) != len(B):\n",
        "        print(\"Matrix multiplication not possible\")\n",
        "    else:\n",
        "        # Iterate through each row of A matrix\n",
        "        for i in range(no_of_rows_in_result):\n",
        "            # Check if the Bmatrix is a vector or not\n",
        "            if no_of_cols_in_result > 1:\n",
        "                temp_row = []\n",
        "                # Iterate through each column of B matrix\n",
        "                for j in range(no_of_cols_in_result):\n",
        "                    sum = 0\n",
        "                    # Multiply each row of A with each column of B\n",
        "                    for k in range(len(A[0])):\n",
        "                        sum += A[i][k] * B[k][j]\n",
        "                    temp_row.append(sum)\n",
        "                result.append(temp_row)\n",
        "            else:\n",
        "                sum= 0\n",
        "                # Multiply each row of A with B\n",
        "                for k in range(len(A[0])):\n",
        "                    sum += A[i][k] * B[k]\n",
        "                result.append(sum)\n",
        "    return result"
      ],
      "metadata": {
        "id": "AiRnIwUw8-pk"
      },
      "execution_count": 21,
      "outputs": []
    },
    {
      "cell_type": "code",
      "source": [
        "def reduce_to_rref(matrix):\n",
        "    # Define a unit matrix to keep track of row operations\n",
        "    unit_matrix = [[1, 0, 0],  # This is a 3x3 unit matrix, assuming input matrix is 3x3\n",
        "                   [0, 1, 0],\n",
        "                   [0, 0, 1]]\n",
        "\n",
        "    # Initialize the leading column index and get dimensions of the matrix\n",
        "    lead = 0\n",
        "    rowCount = len(matrix)\n",
        "    columnCount = len(matrix[0])\n",
        "\n",
        "    # Iterate through each row of the matrix\n",
        "    for r in range(rowCount):\n",
        "        # Check if the leading column index exceeds the number of columns\n",
        "        if lead >= columnCount:\n",
        "            return matrix  # If so, return the current state of the matrix\n",
        "\n",
        "        i = r\n",
        "\n",
        "        # Look for a row with a nonzero entry in the leading column\n",
        "        while matrix[i][lead] == 0:\n",
        "            i += 1\n",
        "            # If all rows in the column have been checked, move to the next column\n",
        "            if i == rowCount:\n",
        "                i = r\n",
        "                lead += 1\n",
        "                # If the last column has been reached, return the current state of the matrix\n",
        "                if columnCount == lead:\n",
        "                    return matrix\n",
        "\n",
        "        # Swap the current row with the row containing the nonzero entry in the leading column\n",
        "        matrix[i], matrix[r] = matrix[r], matrix[i]\n",
        "        unit_matrix[i], unit_matrix[r] = unit_matrix[r], unit_matrix[i]\n",
        "\n",
        "        # Make the leading entry of the current row 1 (performing row scaling)\n",
        "        lv = matrix[r][lead]\n",
        "        matrix[r] = [mrx / float(lv) for mrx in matrix[r]]\n",
        "        unit_matrix[r] = [mrx / float(lv) for mrx in unit_matrix[r]]\n",
        "\n",
        "        # Perform row operations to make all other entries in the leading column zero\n",
        "        for i in range(rowCount):\n",
        "            if i != r:\n",
        "                lv = matrix[i][lead]\n",
        "                # Subtract multiples of the current row from other rows to eliminate entries in the leading column\n",
        "                matrix[i] = [iv - lv*rv for rv, iv in zip(matrix[r], matrix[i])]\n",
        "                unit_matrix[i] = [iv - lv*rv for rv, iv in zip(unit_matrix[r], unit_matrix[i])]\n",
        "\n",
        "        # Move to the next leading column\n",
        "        lead += 1\n",
        "\n",
        "    # Return the reduced row echelon form of the matrix along with the corresponding unit matrix\n",
        "    return matrix, unit_matrix\n"
      ],
      "metadata": {
        "id": "nWs2inBjhIVu"
      },
      "execution_count": 3,
      "outputs": []
    },
    {
      "cell_type": "code",
      "source": [
        "A = [[0, 1, 2],\n",
        "      [1, 0, 3],\n",
        "      [4, -3, 8]]\n",
        "\n",
        "A_copy = deepcopy(A)\n",
        "rref_matrix, inverse_matrix = reduce_to_rref(A_copy)\n",
        "print(\"RREF of A|I:\")\n",
        "for row in rref_matrix:\n",
        "    print(row)\n",
        "\n",
        "print(\"\\nInverse of A\")\n",
        "for row in inverse_matrix:\n",
        "    print(row)"
      ],
      "metadata": {
        "id": "9QAECqT1ez8t",
        "colab": {
          "base_uri": "https://localhost:8080/"
        },
        "outputId": "e263ce3b-ed84-48d2-f227-411173c08922"
      },
      "execution_count": 19,
      "outputs": [
        {
          "output_type": "stream",
          "name": "stdout",
          "text": [
            "RREF of A|I:\n",
            "[1.0, 0.0, 0.0]\n",
            "[0.0, 1.0, 0.0]\n",
            "[0.0, 0.0, 1.0]\n",
            "\n",
            "Inverse of A\n",
            "[-4.5, 7.0, -1.5]\n",
            "[-2.0, 4.0, -1.0]\n",
            "[1.5, -2.0, 0.5]\n"
          ]
        }
      ]
    },
    {
      "cell_type": "code",
      "source": [
        "product = matrix_multiply(A, inverse_matrix)\n",
        "\n",
        "# Print each row of the product matrix\n",
        "print(\"Product of Original matrix & its inverse:\")\n",
        "for row in product:\n",
        "    print(row)"
      ],
      "metadata": {
        "id": "9h1IMjftSo1D",
        "colab": {
          "base_uri": "https://localhost:8080/"
        },
        "outputId": "bb4cd07e-1157-4215-b05e-7d10e47f943a"
      },
      "execution_count": 22,
      "outputs": [
        {
          "output_type": "stream",
          "name": "stdout",
          "text": [
            "Product of Original matrix & its inverse:\n",
            "[1.0, 0.0, 0.0]\n",
            "[0.0, 1.0, 0.0]\n",
            "[0.0, 0.0, 1.0]\n"
          ]
        }
      ]
    },
    {
      "cell_type": "code",
      "source": [],
      "metadata": {
        "id": "3kbBbByXOg8-"
      },
      "execution_count": null,
      "outputs": []
    }
  ]
}