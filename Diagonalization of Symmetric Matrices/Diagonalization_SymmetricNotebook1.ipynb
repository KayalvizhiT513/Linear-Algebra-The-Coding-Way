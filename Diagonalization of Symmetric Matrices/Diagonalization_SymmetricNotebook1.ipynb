{
  "nbformat": 4,
  "nbformat_minor": 0,
  "metadata": {
    "colab": {
      "provenance": [],
      "authorship_tag": "ABX9TyOHZFQBaKAoUGVh5yKUqocd",
      "include_colab_link": true
    },
    "kernelspec": {
      "name": "python3",
      "display_name": "Python 3"
    },
    "language_info": {
      "name": "python"
    }
  },
  "cells": [
    {
      "cell_type": "markdown",
      "metadata": {
        "id": "view-in-github",
        "colab_type": "text"
      },
      "source": [
        "<a href=\"https://colab.research.google.com/github/KayalvizhiT513/Linear-Algebra-The-Coding-Way/blob/main/Diagonalization%20of%20Symmetric%20Matrices/Diagonalization_SymmetricNotebook1.ipynb\" target=\"_parent\"><img src=\"https://colab.research.google.com/assets/colab-badge.svg\" alt=\"Open In Colab\"/></a>"
      ]
    },
    {
      "cell_type": "code",
      "source": [
        "import numpy as np"
      ],
      "metadata": {
        "id": "caZ7rjYPhsOF"
      },
      "execution_count": 10,
      "outputs": []
    },
    {
      "cell_type": "code",
      "source": [
        "def is_near_equal(A, B, tol=1e-5):\n",
        "  \"\"\"\n",
        "  Checks if two matrices are element-wise near equal within a tolerance.\n",
        "\n",
        "  Args:\n",
        "      A: First matrix.\n",
        "      B: Second matrix.\n",
        "      tol: Tolerance level (default: 1e-5).\n",
        "\n",
        "  Returns:\n",
        "      True if matrices are near equal, False otherwise.\n",
        "  \"\"\"\n",
        "  return np.abs(A - B).max() <= tol"
      ],
      "metadata": {
        "id": "ugxg-ynGhNp3"
      },
      "execution_count": 11,
      "outputs": []
    },
    {
      "cell_type": "code",
      "execution_count": 13,
      "metadata": {
        "id": "lM8hrLZpgACC"
      },
      "outputs": [],
      "source": [
        "def Is_orthonormal(A):\n",
        "    # Calculate eigenvalues and eigenvectors\n",
        "    eigenvalues, eigenvectors = np.linalg.eig(A)\n",
        "\n",
        "    # Check if eigenvectors are orthonormal\n",
        "    eigenvector_product_matrix = np.dot(eigenvectors.T, eigenvectors)\n",
        "    print(\"Eigenvector Product Matrix: \\n\",eigenvector_product_matrix)\n",
        "    is_orthonormal = is_near_equal(np.eye(3), eigenvector_product_matrix)\n",
        "\n",
        "    # Print the results\n",
        "    print(\"\\nEigenvalues:\")\n",
        "    print(eigenvalues)\n",
        "    print(\"\\nEigenvectors:\")\n",
        "    print(eigenvectors)\n",
        "    print(\"\\nAre eigenvectors orthonormal?:\", is_orthonormal)\n"
      ]
    },
    {
      "cell_type": "code",
      "source": [
        "# Define the symmetric matrix\n",
        "A = np.array([[6, -2, -1],\n",
        "              [-2,  6, -1],\n",
        "              [-1, -1,  5]])\n",
        "\n",
        "# Function call\n",
        "Is_orthonormal(A)"
      ],
      "metadata": {
        "colab": {
          "base_uri": "https://localhost:8080/"
        },
        "id": "2PkAjOZ3gaBV",
        "outputId": "557bf99c-e7f4-44e0-a8b9-1e99480a658e"
      },
      "execution_count": 14,
      "outputs": [
        {
          "output_type": "stream",
          "name": "stdout",
          "text": [
            "Eigenvector Product Matrix: \n",
            " [[ 1.00000000e+00 -8.83728434e-17 -1.12180787e-16]\n",
            " [-8.83728434e-17  1.00000000e+00 -4.44217880e-16]\n",
            " [-1.12180787e-16 -4.44217880e-16  1.00000000e+00]]\n",
            "\n",
            "Eigenvalues:\n",
            "[3. 8. 6.]\n",
            "\n",
            "Eigenvectors:\n",
            "[[ 5.77350269e-01  7.07106781e-01 -4.08248290e-01]\n",
            " [ 5.77350269e-01 -7.07106781e-01 -4.08248290e-01]\n",
            " [ 5.77350269e-01 -2.79509395e-16  8.16496581e-01]]\n",
            "\n",
            "Are eigenvectors orthonormal?: True\n"
          ]
        }
      ]
    },
    {
      "cell_type": "code",
      "source": [
        "# Define the Asymmetric matrix\n",
        "A1 = np.array([[1, 2, 3],\n",
        "               [4, 5, 6],\n",
        "               [7, 8, 9]])\n",
        "\n",
        "# Function call\n",
        "Is_orthonormal(A1)"
      ],
      "metadata": {
        "colab": {
          "base_uri": "https://localhost:8080/"
        },
        "id": "J2fSXU7tiIUt",
        "outputId": "2fc9187b-a84b-431b-97f5-c3e5c959c627"
      },
      "execution_count": 17,
      "outputs": [
        {
          "output_type": "stream",
          "name": "stdout",
          "text": [
            "Eigenvector Product Matrix: \n",
            " [[ 1.00000000e+00 -2.73434371e-01  9.26731829e-17]\n",
            " [-2.73434371e-01  1.00000000e+00 -1.00862125e-15]\n",
            " [ 9.26731829e-17 -1.00862125e-15  1.00000000e+00]]\n",
            "\n",
            "Eigenvalues:\n",
            "[ 1.61168440e+01 -1.11684397e+00 -1.30367773e-15]\n",
            "\n",
            "Eigenvectors:\n",
            "[[-0.23197069 -0.78583024  0.40824829]\n",
            " [-0.52532209 -0.08675134 -0.81649658]\n",
            " [-0.8186735   0.61232756  0.40824829]]\n",
            "\n",
            "Are eigenvectors orthonormal?: False\n"
          ]
        }
      ]
    },
    {
      "cell_type": "markdown",
      "source": [
        "## Construction of P, D, Pᵀ and P\\^-1"
      ],
      "metadata": {
        "id": "IB7h9fJcjJ4L"
      }
    },
    {
      "cell_type": "code",
      "source": [
        "def diagonalize(A):\n",
        "  # Calculate eigenvalues and eigenvectors\n",
        "    eigenvalues, eigenvectors = np.linalg.eig(A)\n",
        "\n",
        "    # Construct the diagonal matrix D\n",
        "    D = np.diag(eigenvalues)\n",
        "\n",
        "    #adjusting the columns of P\n",
        "    # mult1 = 1/eigenvectors.T[0][1]\n",
        "    # vect1 = mult1*eigenvectors.T[0]\n",
        "    # mult2 = 1/eigenvectors.T[1][1]\n",
        "    # vect2 = mult2*eigenvectors.T[1]\n",
        "    # mult3 = -1/eigenvectors.T[2][1]\n",
        "    # vect3 = mult3*eigenvectors.T[2]\n",
        "\n",
        "    # Stack the eigenvectors as columns to form the matrix P\n",
        "    # P = np.column_stack((vect1, vect2, vect3))\n",
        "    P = np.column_stack(eigenvectors)\n",
        "    P_inv = np.linalg.inv(P)\n",
        "\n",
        "    return P, D, P_inv"
      ],
      "metadata": {
        "id": "sj1RIJ1kiUZ1"
      },
      "execution_count": 40,
      "outputs": []
    },
    {
      "cell_type": "code",
      "source": [
        "P, D, P1 = diagonalize(A)\n"
      ],
      "metadata": {
        "id": "3qAXrNUUpWQF"
      },
      "execution_count": 41,
      "outputs": []
    },
    {
      "cell_type": "code",
      "source": [
        "print(P)"
      ],
      "metadata": {
        "colab": {
          "base_uri": "https://localhost:8080/"
        },
        "id": "kseN9ZB54LjM",
        "outputId": "0d80e11c-2c1c-4ecb-84d3-4f8b69087546"
      },
      "execution_count": 42,
      "outputs": [
        {
          "output_type": "stream",
          "name": "stdout",
          "text": [
            "[[ 5.77350269e-01  5.77350269e-01  5.77350269e-01]\n",
            " [ 7.07106781e-01 -7.07106781e-01 -2.79509395e-16]\n",
            " [-4.08248290e-01 -4.08248290e-01  8.16496581e-01]]\n"
          ]
        }
      ]
    },
    {
      "cell_type": "code",
      "source": [
        "print(D)"
      ],
      "metadata": {
        "colab": {
          "base_uri": "https://localhost:8080/"
        },
        "id": "4QXsq1ssuJND",
        "outputId": "4aea382d-17b2-44b5-bc6a-52b61c2693e4"
      },
      "execution_count": 43,
      "outputs": [
        {
          "output_type": "stream",
          "name": "stdout",
          "text": [
            "[[3. 0. 0.]\n",
            " [0. 8. 0.]\n",
            " [0. 0. 6.]]\n"
          ]
        }
      ]
    },
    {
      "cell_type": "code",
      "source": [
        "print(P1)"
      ],
      "metadata": {
        "colab": {
          "base_uri": "https://localhost:8080/"
        },
        "id": "Yd7XAEG3uLs8",
        "outputId": "cfe0b355-2b2c-487e-d155-b3a31cf033b4"
      },
      "execution_count": 44,
      "outputs": [
        {
          "output_type": "stream",
          "name": "stdout",
          "text": [
            "[[ 5.77350269e-01  7.07106781e-01 -4.08248290e-01]\n",
            " [ 5.77350269e-01 -7.07106781e-01 -4.08248290e-01]\n",
            " [ 5.77350269e-01  9.95750296e-17  8.16496581e-01]]\n"
          ]
        }
      ]
    },
    {
      "cell_type": "code",
      "source": [
        "print(P.T)"
      ],
      "metadata": {
        "colab": {
          "base_uri": "https://localhost:8080/"
        },
        "id": "hW-YznSfp0d0",
        "outputId": "929b17c8-38bd-42a5-dfc2-f741eb0fc98c"
      },
      "execution_count": 45,
      "outputs": [
        {
          "output_type": "stream",
          "name": "stdout",
          "text": [
            "[[ 5.77350269e-01  7.07106781e-01 -4.08248290e-01]\n",
            " [ 5.77350269e-01 -7.07106781e-01 -4.08248290e-01]\n",
            " [ 5.77350269e-01 -2.79509395e-16  8.16496581e-01]]\n"
          ]
        }
      ]
    },
    {
      "cell_type": "markdown",
      "source": [
        "Since P is formed by the eigenvectors of a symmetric matrix, which are orthogonal, P is also an orthogonal matrix. Thus P inverse is equal to Pᵀ"
      ],
      "metadata": {
        "id": "ZAlsz_6Jr84I"
      }
    },
    {
      "cell_type": "code",
      "source": [],
      "metadata": {
        "id": "IBRFMfC-rVKV"
      },
      "execution_count": null,
      "outputs": []
    }
  ]
}