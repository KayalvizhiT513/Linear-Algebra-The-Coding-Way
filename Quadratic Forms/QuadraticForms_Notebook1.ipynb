{
  "nbformat": 4,
  "nbformat_minor": 0,
  "metadata": {
    "colab": {
      "provenance": [],
      "authorship_tag": "ABX9TyNu4yIcrt6lPmUAtjkX2eqn",
      "include_colab_link": true
    },
    "kernelspec": {
      "name": "python3",
      "display_name": "Python 3"
    },
    "language_info": {
      "name": "python"
    }
  },
  "cells": [
    {
      "cell_type": "markdown",
      "metadata": {
        "id": "view-in-github",
        "colab_type": "text"
      },
      "source": [
        "<a href=\"https://colab.research.google.com/github/KayalvizhiT513/Linear-Algebra-The-Coding-Way/blob/main/Quadratic%20Forms/QuadraticForms_Notebook1.ipynb\" target=\"_parent\"><img src=\"https://colab.research.google.com/assets/colab-badge.svg\" alt=\"Open In Colab\"/></a>"
      ]
    },
    {
      "cell_type": "markdown",
      "source": [
        "## Coding Assignment 1"
      ],
      "metadata": {
        "id": "i9vRQsAiIe6d"
      }
    },
    {
      "cell_type": "markdown",
      "source": [
        "###Quadratic Form:\n",
        "A quadratic form on $R^n$ is a function $Q$ defined on $R^n$ whose value at a vector $x$\n",
        "in $R^n$ can be computed by an expression of the form $Q(x)= x^TAx$, where $A$ is an $n \\times n$\n",
        "symmetric matrix. The matrix $A$ is called the matrix of the quadratic form."
      ],
      "metadata": {
        "id": "1082psYEJ8hl"
      }
    },
    {
      "cell_type": "code",
      "source": [
        "import sympy as sp\n",
        "import numpy as np"
      ],
      "metadata": {
        "id": "iuRARwFlIidk"
      },
      "execution_count": 46,
      "outputs": []
    },
    {
      "cell_type": "markdown",
      "source": [
        "Let us take a vector\n",
        "$x = \\begin{bmatrix} x_1 \\\\ x_2 \\end{bmatrix} $"
      ],
      "metadata": {
        "id": "umwkaDGpLCWl"
      }
    },
    {
      "cell_type": "code",
      "source": [
        "# Define the variables x1 and x2\n",
        "x1, x2 = sp.symbols('x1 x2')"
      ],
      "metadata": {
        "id": "wwi9w9nGIkhM"
      },
      "execution_count": 2,
      "outputs": []
    },
    {
      "cell_type": "code",
      "source": [
        "# Define the vector x\n",
        "x = sp.Matrix([x1, x2])"
      ],
      "metadata": {
        "id": "UPYdNDvqIoHD"
      },
      "execution_count": 3,
      "outputs": []
    },
    {
      "cell_type": "markdown",
      "source": [
        "<details>\n",
        "    <summary>Symmetric Matrix</summary>\n",
        "    <p>A symmetric matrix is a square matrix that is equal to its transpose.</p>\n",
        "</details>\n",
        "\n",
        "**Consider the following symmetric matrices:**<br>\n",
        "One with non-diagonal elements equal to zero, and the other with non-zero non-diagonal elements."
      ],
      "metadata": {
        "id": "1G7lWQ6LLyeG"
      }
    },
    {
      "cell_type": "code",
      "source": [
        "A_a = sp.Matrix([[4, 0],\n",
        "                 [0, 3]])\n",
        "A_b = sp.Matrix([[3, -2],\n",
        "                 [-2, 7]])"
      ],
      "metadata": {
        "id": "OyU1Ga62IrNU"
      },
      "execution_count": 4,
      "outputs": []
    },
    {
      "cell_type": "code",
      "source": [
        "result_a = x.T * A_a * x\n",
        "\n",
        "# result_a[0] since it returns a 1x1 matrix which is a scalar\n",
        "result_a = sp.simplify(result_a[0])\n",
        "result_a"
      ],
      "metadata": {
        "colab": {
          "base_uri": "https://localhost:8080/",
          "height": 39
        },
        "id": "3T6gXwG3I1Fk",
        "outputId": "2f7e60ff-8e91-42e0-c0ef-3bbf45687a8c"
      },
      "execution_count": 12,
      "outputs": [
        {
          "output_type": "execute_result",
          "data": {
            "text/plain": [
              "4*x1**2 + 3*x2**2"
            ],
            "text/latex": "$\\displaystyle 4 x_{1}^{2} + 3 x_{2}^{2}$"
          },
          "metadata": {},
          "execution_count": 12
        }
      ]
    },
    {
      "cell_type": "code",
      "execution_count": 13,
      "metadata": {
        "colab": {
          "base_uri": "https://localhost:8080/",
          "height": 39
        },
        "id": "sRbL5LfNIbF9",
        "outputId": "80685a85-6c18-44ea-82a5-72cca374707e"
      },
      "outputs": [
        {
          "output_type": "execute_result",
          "data": {
            "text/plain": [
              "3*x1**2 - 4*x1*x2 + 7*x2**2"
            ],
            "text/latex": "$\\displaystyle 3 x_{1}^{2} - 4 x_{1} x_{2} + 7 x_{2}^{2}$"
          },
          "metadata": {},
          "execution_count": 13
        }
      ],
      "source": [
        "result_b = x.T * A_b * x\n",
        "\n",
        "# result_b[0] since it returns a 1x1 matrix which is a scalar\n",
        "result_b = sp.simplify(result_b[0])\n",
        "result_b\n"
      ]
    },
    {
      "cell_type": "markdown",
      "source": [
        "Product of $ 1 \\times n$ row vector and $n \\times n$ matrix and $n \\times 1$ column vector results in $1 \\times 1$ matrix which is a scalar. Therefore, $x^TAx$, that is $Q$ is a scalar."
      ],
      "metadata": {
        "id": "JeonnKLDMmyd"
      }
    },
    {
      "cell_type": "markdown",
      "source": [
        "**Note:**  $x^TA_bx$ has cross product($-4x_1x_2$) but  $x^TA_ax$ does not have a crossproduct, because the off diagonal elements of $A_a$ are 0\n",
        "\n"
      ],
      "metadata": {
        "id": "JMwZvI8mPTWj"
      }
    },
    {
      "cell_type": "code",
      "source": [
        "# Define x\n",
        "x_val = sp.Matrix([2, -2])\n",
        "\n",
        "# Substitute x into the expressions for result_a and result_b\n",
        "result_a_value = result_a.subs({x1: x_val[0], x2: x_val[1]})\n",
        "result_b_value = result_b.subs({x1: x_val[0], x2: x_val[1]})\n",
        "\n",
        "result_a_value, result_b_value"
      ],
      "metadata": {
        "colab": {
          "base_uri": "https://localhost:8080/"
        },
        "id": "K9v_pKkCJmYF",
        "outputId": "8cc847ef-29cf-4f6a-8de7-ee715c84d466"
      },
      "execution_count": 20,
      "outputs": [
        {
          "output_type": "execute_result",
          "data": {
            "text/plain": [
              "(28, 56)"
            ]
          },
          "metadata": {},
          "execution_count": 20
        }
      ]
    },
    {
      "cell_type": "markdown",
      "source": [
        "## Change of Variable in Quadratic Form\n",
        "Let the new variable vector be $y = \\begin{bmatrix} y_1\\\\ y_2 \\end{bmatrix}$"
      ],
      "metadata": {
        "id": "RJbcpJTBZZkf"
      }
    },
    {
      "cell_type": "markdown",
      "source": [
        "$x = Py$ <br>\n",
        "$y = P^{-1} x$"
      ],
      "metadata": {
        "id": "ngUSH-njaPJF"
      }
    },
    {
      "cell_type": "markdown",
      "source": [
        "$ x^TAx$<br>\n",
        "$= (Py)^TA(Py)$<br>\n",
        "$= y^T(P^TAP)y$<br>\n",
        "$= y^T(P^T(PDP^{-1})P)y$ .......... (Diagonalise $A$ as $PAP^{-1}$)<br>\n",
        "$= y^TDy$ ....................................... (Since P is Orthogonal, $P^{-1} = P^T$)\n"
      ],
      "metadata": {
        "id": "2udaimkGbEak"
      }
    },
    {
      "cell_type": "code",
      "source": [
        "A = np.array([[1, -4],\n",
        "               [-4, -5]])"
      ],
      "metadata": {
        "id": "GcIb05vFWd7s"
      },
      "execution_count": 83,
      "outputs": []
    },
    {
      "cell_type": "code",
      "source": [
        "eigenvalues, eigenvectors = np.linalg.eig(A)"
      ],
      "metadata": {
        "id": "AG9xl_a4WsxH"
      },
      "execution_count": 84,
      "outputs": []
    },
    {
      "cell_type": "code",
      "source": [
        "P, D = A.diagonalize()\n",
        "P"
      ],
      "metadata": {
        "colab": {
          "base_uri": "https://localhost:8080/",
          "height": 58
        },
        "id": "23hxkNeWpQsP",
        "outputId": "4256bfbe-8859-4ce7-d5d9-975e17393952"
      },
      "execution_count": 95,
      "outputs": [
        {
          "output_type": "execute_result",
          "data": {
            "text/plain": [
              "Matrix([\n",
              "[1, -2],\n",
              "[2,  1]])"
            ],
            "text/latex": "$\\displaystyle \\left[\\begin{matrix}1 & -2\\\\2 & 1\\end{matrix}\\right]$"
          },
          "metadata": {},
          "execution_count": 95
        }
      ]
    },
    {
      "cell_type": "code",
      "source": [
        "# Compute the sum of squares of the elements in the column\n",
        "sum_of_squares = [sp.sqrt(sp.Add(*[col**2 for col in P.col(i)])) for i in range(P.shape[0])]\n",
        "\n",
        "# Create a new matrix to store the result\n",
        "P_norm = sp.zeros(P.rows, P.cols)\n",
        "\n",
        "# Divide each column by its corresponding divisor\n",
        "for j in range(P.cols):\n",
        "    P_norm[:, j] = P[:, j] / sum_of_squares[j]"
      ],
      "metadata": {
        "id": "sHxCm7LHqBcm"
      },
      "execution_count": 115,
      "outputs": []
    },
    {
      "cell_type": "code",
      "source": [
        "P_norm"
      ],
      "metadata": {
        "colab": {
          "base_uri": "https://localhost:8080/",
          "height": 68
        },
        "id": "5DyNG4XxjdOq",
        "outputId": "ac8477d4-edfe-4e75-ba6d-4b42885b6bb5"
      },
      "execution_count": 116,
      "outputs": [
        {
          "output_type": "execute_result",
          "data": {
            "text/plain": [
              "Matrix([\n",
              "[  sqrt(5)/5, -2*sqrt(5)/5],\n",
              "[2*sqrt(5)/5,    sqrt(5)/5]])"
            ],
            "text/latex": "$\\displaystyle \\left[\\begin{matrix}\\frac{\\sqrt{5}}{5} & - \\frac{2 \\sqrt{5}}{5}\\\\\\frac{2 \\sqrt{5}}{5} & \\frac{\\sqrt{5}}{5}\\end{matrix}\\right]$"
          },
          "metadata": {},
          "execution_count": 116
        }
      ]
    },
    {
      "cell_type": "code",
      "source": [
        "#D = sp.Matrix(np.diag(eigenvalues))\n",
        "D"
      ],
      "metadata": {
        "colab": {
          "base_uri": "https://localhost:8080/",
          "height": 58
        },
        "id": "FrXFpBjwgoTr",
        "outputId": "15344185-1c21-44bf-9ee2-f53d02a11435"
      },
      "execution_count": 86,
      "outputs": [
        {
          "output_type": "execute_result",
          "data": {
            "text/plain": [
              "Matrix([\n",
              "[-7, 0],\n",
              "[ 0, 3]])"
            ],
            "text/latex": "$\\displaystyle \\left[\\begin{matrix}-7 & 0\\\\0 & 3\\end{matrix}\\right]$"
          },
          "metadata": {},
          "execution_count": 86
        }
      ]
    },
    {
      "cell_type": "code",
      "source": [
        "x_val = [-2, 2]"
      ],
      "metadata": {
        "id": "VsNcZAABgotW"
      },
      "execution_count": 28,
      "outputs": []
    },
    {
      "cell_type": "code",
      "source": [
        "Q_x = x.T * A * x\n",
        "Q_x = sp.simplify(Q_x)\n",
        "Q_x"
      ],
      "metadata": {
        "colab": {
          "base_uri": "https://localhost:8080/",
          "height": 38
        },
        "id": "EcDyW_2Tgv97",
        "outputId": "c5d98f03-4b86-4649-901a-c95d403853e7"
      },
      "execution_count": 38,
      "outputs": [
        {
          "output_type": "execute_result",
          "data": {
            "text/plain": [
              "Matrix([[x1**2 - 8*x1*x2 - 5*x2**2]])"
            ],
            "text/latex": "$\\displaystyle \\left[\\begin{matrix}x_{1}^{2} - 8 x_{1} x_{2} - 5 x_{2}^{2}\\end{matrix}\\right]$"
          },
          "metadata": {},
          "execution_count": 38
        }
      ]
    },
    {
      "cell_type": "code",
      "source": [
        "Qx_value = Q_x.subs({x1: x_val[0], x2: x_val[1]})\n",
        "Qx_value"
      ],
      "metadata": {
        "colab": {
          "base_uri": "https://localhost:8080/",
          "height": 38
        },
        "id": "Tl3Oxj0hg4x4",
        "outputId": "93fc4742-d4bd-431d-95e1-20fd06a32ff0"
      },
      "execution_count": 39,
      "outputs": [
        {
          "output_type": "execute_result",
          "data": {
            "text/plain": [
              "Matrix([[16]])"
            ],
            "text/latex": "$\\displaystyle \\left[\\begin{matrix}16\\end{matrix}\\right]$"
          },
          "metadata": {},
          "execution_count": 39
        }
      ]
    },
    {
      "cell_type": "markdown",
      "source": [
        "###Changing the variable to y"
      ],
      "metadata": {
        "id": "mfgTvYVVhTwM"
      }
    },
    {
      "cell_type": "code",
      "source": [
        "y1, y2 = sp.symbols('y1 y2')"
      ],
      "metadata": {
        "id": "qOXGm7uAhQyj"
      },
      "execution_count": 40,
      "outputs": []
    },
    {
      "cell_type": "code",
      "source": [
        "y = sp.Matrix([y1, y2])\n",
        "y"
      ],
      "metadata": {
        "colab": {
          "base_uri": "https://localhost:8080/",
          "height": 58
        },
        "id": "lFhp4BFBhrT-",
        "outputId": "84657815-fcc8-40fc-87c9-2d04166796cc"
      },
      "execution_count": 41,
      "outputs": [
        {
          "output_type": "execute_result",
          "data": {
            "text/plain": [
              "Matrix([\n",
              "[y1],\n",
              "[y2]])"
            ],
            "text/latex": "$\\displaystyle \\left[\\begin{matrix}y_{1}\\\\y_{2}\\end{matrix}\\right]$"
          },
          "metadata": {},
          "execution_count": 41
        }
      ]
    },
    {
      "cell_type": "code",
      "source": [
        "y_val = P_norm * sp.Matrix(x_val)\n",
        "y_val"
      ],
      "metadata": {
        "colab": {
          "base_uri": "https://localhost:8080/",
          "height": 68
        },
        "id": "xGusWLr6ttvT",
        "outputId": "42cfc456-1221-465b-a97f-34cc34f45a01"
      },
      "execution_count": 126,
      "outputs": [
        {
          "output_type": "execute_result",
          "data": {
            "text/plain": [
              "Matrix([\n",
              "[-6*sqrt(5)/5],\n",
              "[-2*sqrt(5)/5]])"
            ],
            "text/latex": "$\\displaystyle \\left[\\begin{matrix}- \\frac{6 \\sqrt{5}}{5}\\\\- \\frac{2 \\sqrt{5}}{5}\\end{matrix}\\right]$"
          },
          "metadata": {},
          "execution_count": 126
        }
      ]
    },
    {
      "cell_type": "code",
      "source": [
        "Q_y = y.T * D * y\n",
        "Q_y = sp.simplify(Q_y)\n",
        "Q_y"
      ],
      "metadata": {
        "colab": {
          "base_uri": "https://localhost:8080/",
          "height": 38
        },
        "id": "eEtsQxFwh2Zn",
        "outputId": "48e3afc1-e37c-437c-ad53-ee110b839e0c"
      },
      "execution_count": 79,
      "outputs": [
        {
          "output_type": "execute_result",
          "data": {
            "text/plain": [
              "Matrix([[3.0*y1**2 - 7.0*y2**2]])"
            ],
            "text/latex": "$\\displaystyle \\left[\\begin{matrix}3.0 y_{1}^{2} - 7.0 y_{2}^{2}\\end{matrix}\\right]$"
          },
          "metadata": {},
          "execution_count": 79
        }
      ]
    },
    {
      "cell_type": "code",
      "source": [
        "Qy_value = Q_y.subs({y1: y_val[0], y2: y_val[1]})\n",
        "Qy_value"
      ],
      "metadata": {
        "colab": {
          "base_uri": "https://localhost:8080/",
          "height": 38
        },
        "id": "DIQGXUM2iMEB",
        "outputId": "4e9c2679-f871-4730-dc7a-3841fd50b0b3"
      },
      "execution_count": 127,
      "outputs": [
        {
          "output_type": "execute_result",
          "data": {
            "text/plain": [
              "Matrix([[16.0]])"
            ],
            "text/latex": "$\\displaystyle \\left[\\begin{matrix}16.0\\end{matrix}\\right]$"
          },
          "metadata": {},
          "execution_count": 127
        }
      ]
    },
    {
      "cell_type": "code",
      "source": [],
      "metadata": {
        "id": "NmQ2Ziz8rdC3"
      },
      "execution_count": null,
      "outputs": []
    }
  ]
}